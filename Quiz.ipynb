{
 "cells": [
  {
   "cell_type": "code",
   "execution_count": 27,
   "id": "84253dc2",
   "metadata": {},
   "outputs": [],
   "source": [
    "class color:\n",
    "    PURPLE = '\\033[95m'\n",
    "    CYAN = '\\033[96m'\n",
    "    DARKCYAN = '\\033[36m'\n",
    "    BLUE = '\\033[94m'\n",
    "    GREEN = '\\033[92m'\n",
    "    YELLOW = '\\033[93m'\n",
    "    RED = '\\033[91m'\n",
    "    BOLD = '\\033[1m'\n",
    "    UNDERLINE = '\\033[4m'\n",
    "    END = '\\033[0m'"
   ]
  },
  {
   "cell_type": "code",
   "execution_count": 28,
   "id": "c456c020",
   "metadata": {},
   "outputs": [],
   "source": [
    "def check_guess(guess, answer):\n",
    "    global score\n",
    "    still_guessing = True\n",
    "    attempt = 0\n",
    "    while still_guessing and attempt < 3:\n",
    "        if guess.lower() == answer.lower():\n",
    "            print(color.BOLD + color.BLUE + \"Correct Answer\" + color.END)\n",
    "            score = score + 1\n",
    "            still_guessing = False\n",
    "        else:\n",
    "            if attempt < 2:\n",
    "                guess = input(color.BOLD + color.RED + \"Sorry Wrong Answer, try again\"+ color.END + '\\n')\n",
    "            attempt = attempt + 1\n",
    "    if attempt == 3:\n",
    "        print(\"The Correct answer is \",answer )\n"
   ]
  },
  {
   "cell_type": "code",
   "execution_count": 30,
   "id": "fe745a58",
   "metadata": {},
   "outputs": [
    {
     "name": "stdout",
     "output_type": "stream",
     "text": [
      "How much do you know about India\n",
      "Lets see how much do you score out of 3\n",
      "\n",
      "Capital of India?\n",
      "New Delhi\n",
      "\u001b[1m\u001b[94mCorrect Answer\u001b[0m\n",
      "\n",
      "Which is the Pink city of India?\n",
      "Jaipur \n",
      "Sorry Wrong Answer, try again\n",
      "Jaipur\n",
      "\u001b[1m\u001b[94mCorrect Answer\u001b[0m\n",
      "\n",
      "What is the Capital of Gujrat?\n",
      "Gandhinagar \n",
      "Sorry Wrong Answer, try again\n",
      "Gandhinagar\n",
      "\u001b[1m\u001b[94mCorrect Answer\u001b[0m\n",
      "\n",
      "Your Score is 3\n"
     ]
    }
   ],
   "source": [
    "score = 0\n",
    "print(\"How much do you know about India\")\n",
    "print('Lets see how much do you score out of 3')\n",
    "\n",
    "guess1 = input(\"\\nCapital of India?\\n\")\n",
    "check_guess(guess1, \"New Delhi\")\n",
    "guess2 = input(\"\\nWhich is the Pink city of India?\\n\")\n",
    "check_guess(guess2, \"Jaipur\")\n",
    "guess3 = input(\"\\nWhat is the Capital of Gujrat?\\n\")\n",
    "check_guess(guess3, \"Gandhinagar\")\n",
    "print(\"\\nYour Score is \"+ str(score))\n",
    "\n",
    "\n",
    "\n",
    "\n",
    "\n",
    "\n"
   ]
  },
  {
   "cell_type": "code",
   "execution_count": 24,
   "id": "d5cbc6ed",
   "metadata": {},
   "outputs": [],
   "source": []
  }
 ],
 "metadata": {
  "kernelspec": {
   "display_name": "Python 3",
   "language": "python",
   "name": "python3"
  },
  "language_info": {
   "codemirror_mode": {
    "name": "ipython",
    "version": 3
   },
   "file_extension": ".py",
   "mimetype": "text/x-python",
   "name": "python",
   "nbconvert_exporter": "python",
   "pygments_lexer": "ipython3",
   "version": "3.8.8"
  }
 },
 "nbformat": 4,
 "nbformat_minor": 5
}

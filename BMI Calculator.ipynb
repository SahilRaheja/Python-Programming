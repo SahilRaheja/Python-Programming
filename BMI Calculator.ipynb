{
 "cells": [
  {
   "cell_type": "markdown",
   "id": "b7f5bca9",
   "metadata": {},
   "source": [
    "# BMI Calculator"
   ]
  },
  {
   "cell_type": "code",
   "execution_count": 9,
   "id": "9277ea5d",
   "metadata": {},
   "outputs": [],
   "source": [
    "class color:\n",
    "    PURPLE = '\\033[95m'\n",
    "    CYAN = '\\033[96m'\n",
    "    DARKCYAN = '\\033[36m'\n",
    "    BLUE = '\\033[94m'\n",
    "    GREEN = '\\033[92m'\n",
    "    YELLOW = '\\033[93m'\n",
    "    RED = '\\033[91m'\n",
    "    BOLD = '\\033[1m'\n",
    "    UNDERLINE = '\\033[4m'\n",
    "    END = '\\033[0m'"
   ]
  },
  {
   "cell_type": "code",
   "execution_count": 14,
   "id": "15ca2958",
   "metadata": {
    "collapsed": true
   },
   "outputs": [
    {
     "name": "stdout",
     "output_type": "stream",
     "text": [
      "Enter your height in centimeters:185\n",
      "\n",
      "Enter your weight in kgs:125\n",
      "\n",
      "Your Body Mass Index is:  36.523009495982464\n",
      "\u001b[1m\u001b[91m\n",
      "You are SEVERLY OVERWEIGHT\n"
     ]
    }
   ],
   "source": [
    "height = int(input('Enter your height in centimeters:'))\n",
    "weight = int(input('\\nEnter your weight in kgs:'))\n",
    "height = height/100\n",
    "\n",
    "BMI=weight/(height*height)\n",
    "\n",
    "print(\"\\nYour Body Mass Index is: \",BMI)\n",
    "\n",
    "if(BMI>0):\n",
    "    if(BMI<=16):\n",
    "        print(color.BOLD + color.RED + \"\\nYou are SEVERLY UNDERWEIGHT\")\n",
    "    elif(BMI<=18.5):\n",
    "        print(color.BOLD + color.YELLOW + \"\\nYou are Underweight\")\n",
    "    elif(BMI<=25):\n",
    "        print(color.BOLD + color.GREEN + \"\\nYou are Healthy\")\n",
    "    elif(BMI<=30):\n",
    "        print(color.BOLD + color.YELLOW + \"\\nYou are overweight\")\n",
    "        \n",
    "    else: print(color.BOLD + color.RED + \"\\nYou are SEVERLY OVERWEIGHT\")\n",
    "\n",
    "else:(color.BOLD + color.RED + \"\\nEnter valid details\")"
   ]
  }
 ],
 "metadata": {
  "kernelspec": {
   "display_name": "Python 3",
   "language": "python",
   "name": "python3"
  },
  "language_info": {
   "codemirror_mode": {
    "name": "ipython",
    "version": 3
   },
   "file_extension": ".py",
   "mimetype": "text/x-python",
   "name": "python",
   "nbconvert_exporter": "python",
   "pygments_lexer": "ipython3",
   "version": "3.8.8"
  }
 },
 "nbformat": 4,
 "nbformat_minor": 5
}
